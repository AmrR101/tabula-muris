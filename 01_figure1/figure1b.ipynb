{
 "cells": [
  {
   "cell_type": "code",
   "execution_count": 37,
   "metadata": {},
   "outputs": [
    {
     "data": {
      "text/plain": [
       "Aorta                  #1f77b4\n",
       "Bladder                #aec7e8\n",
       "Brain_Microglia        #ff7f0e\n",
       "Brain_Non-microglia    #ffbb78\n",
       "Colon                  #2ca02c\n",
       "Diaphragm              #98df8a\n",
       "Fat                    #d62728\n",
       "Heart                  #ff9896\n",
       "Kidney                 #9467bd\n",
       "Liver                  #c5b0d5\n",
       "Lung                   #8c564b\n",
       "Mammary                #c49c94\n",
       "Marrow                 #e377c2\n",
       "Muscle                 #f7b6d2\n",
       "Pancreas               #7f7f7f\n",
       "Skin                   #c7c7c7\n",
       "Spleen                 #bcbd22\n",
       "Thymus                 #dbdb8d\n",
       "Tongue                 #17becf\n",
       "Trachea                #9edae5\n",
       "Name: color, dtype: object"
      ]
     },
     "execution_count": 37,
     "metadata": {},
     "output_type": "execute_result"
    }
   ],
   "source": [
    "import pandas as pd\n",
    "import os\n",
    "import glob\n",
    "import os \n",
    "import numpy as np\n",
    "\n",
    "import pandas as pd \n",
    "import matplotlib.pyplot as plt\n",
    "import matplotlib\n",
    "import seaborn as sns\n",
    "\n",
    "\n",
    "\n",
    "# Editable text and proper LaTeX fonts in illustrator\n",
    "matplotlib.rcParams['ps.useafm'] = True\n",
    "# matplotlib.rcParams['pdf.use14corefonts'] = True\n",
    "\n",
    "# Editable fonts. 42 is the magic number\n",
    "matplotlib.rcParams['pdf.fonttype'] = 42\n",
    "\n",
    "# Use \"Computer Modern\" (LaTeX font) for math numbers\n",
    "matplotlib.rcParams['mathtext.fontset'] = 'cm'\n",
    "%matplotlib inline\n",
    "\n",
    "sns.set(style='whitegrid', context='paper')\n",
    "\n",
    "\n",
    "data_ingest_folder = os.path.join('..', '00_data_ingest' )\n",
    "folder = os.path.join(data_ingest_folder, '13_ngenes_ncells_facs')\n",
    "\n",
    "palette_folder = os.path.join(data_ingest_folder, '15_color_palette')\n",
    "colors = pd.read_csv(os.path.join(palette_folder, 'tissue_colors.csv'), index_col=0, squeeze=True)\n",
    "colors"
   ]
  },
  {
   "cell_type": "code",
   "execution_count": 38,
   "metadata": {},
   "outputs": [
    {
     "name": "stdout",
     "output_type": "stream",
     "text": [
      "(46426, 4)\n",
      "21\n"
     ]
    },
    {
     "data": {
      "text/html": [
       "<div>\n",
       "<style scoped>\n",
       "    .dataframe tbody tr th:only-of-type {\n",
       "        vertical-align: middle;\n",
       "    }\n",
       "\n",
       "    .dataframe tbody tr th {\n",
       "        vertical-align: top;\n",
       "    }\n",
       "\n",
       "    .dataframe thead th {\n",
       "        text-align: right;\n",
       "    }\n",
       "</style>\n",
       "<table border=\"1\" class=\"dataframe\">\n",
       "  <thead>\n",
       "    <tr style=\"text-align: right;\">\n",
       "      <th></th>\n",
       "      <th>nGene</th>\n",
       "      <th>nReads</th>\n",
       "      <th>orig.ident</th>\n",
       "      <th>tissue</th>\n",
       "    </tr>\n",
       "  </thead>\n",
       "  <tbody>\n",
       "    <tr>\n",
       "      <th>A21.MAA000594.3_8_M.1.1</th>\n",
       "      <td>3850</td>\n",
       "      <td>1848089</td>\n",
       "      <td>Heart</td>\n",
       "      <td>Aorta</td>\n",
       "    </tr>\n",
       "    <tr>\n",
       "      <th>F8.MAA000594.3_8_M.1.1</th>\n",
       "      <td>788</td>\n",
       "      <td>55689</td>\n",
       "      <td>Heart</td>\n",
       "      <td>Aorta</td>\n",
       "    </tr>\n",
       "    <tr>\n",
       "      <th>H11.MAA000594.3_8_M.1.1</th>\n",
       "      <td>554</td>\n",
       "      <td>318135</td>\n",
       "      <td>Heart</td>\n",
       "      <td>Aorta</td>\n",
       "    </tr>\n",
       "    <tr>\n",
       "      <th>A22.MAA000594.3_8_M.1.1</th>\n",
       "      <td>1279</td>\n",
       "      <td>270173</td>\n",
       "      <td>Heart</td>\n",
       "      <td>Aorta</td>\n",
       "    </tr>\n",
       "    <tr>\n",
       "      <th>H12.MAA000594.3_8_M.1.1</th>\n",
       "      <td>946</td>\n",
       "      <td>278892</td>\n",
       "      <td>Heart</td>\n",
       "      <td>Aorta</td>\n",
       "    </tr>\n",
       "  </tbody>\n",
       "</table>\n",
       "</div>"
      ],
      "text/plain": [
       "                         nGene   nReads orig.ident tissue\n",
       "A21.MAA000594.3_8_M.1.1   3850  1848089      Heart  Aorta\n",
       "F8.MAA000594.3_8_M.1.1     788    55689      Heart  Aorta\n",
       "H11.MAA000594.3_8_M.1.1    554   318135      Heart  Aorta\n",
       "A22.MAA000594.3_8_M.1.1   1279   270173      Heart  Aorta\n",
       "H12.MAA000594.3_8_M.1.1    946   278892      Heart  Aorta"
      ]
     },
     "execution_count": 38,
     "metadata": {},
     "output_type": "execute_result"
    }
   ],
   "source": [
    "\n",
    "globber = os.path.join(folder, '*_nreads_ngenes.csv')\n",
    "\n",
    "dfs = []\n",
    "\n",
    "for filename in glob.iglob(globber):\n",
    "    df = pd.read_csv(filename, index_col=0)\n",
    "    df['tissue'] = os.path.basename(filename).split('_nreads_ngenes.csv')[0]\n",
    "    dfs.append(df)\n",
    "nreads_ngenes = pd.concat(dfs)\n",
    "\n",
    "print(nreads_ngenes.shape)\n",
    "print(len(nreads_ngenes.groupby('tissue')))\n",
    "nreads_ngenes.head()"
   ]
  },
  {
   "cell_type": "code",
   "execution_count": 39,
   "metadata": {
    "collapsed": true
   },
   "outputs": [],
   "source": [
    "nreads_ngenes['log10 nReads'] = np.log10(nreads_ngenes['nReads'])"
   ]
  },
  {
   "cell_type": "code",
   "execution_count": 40,
   "metadata": {
    "collapsed": true
   },
   "outputs": [],
   "source": [
    "# Replace underscores with spaces for LaTeX happiness\n",
    "nreads_ngenes['tissue'] = nreads_ngenes['tissue'].str.replace('_', ' ')\n",
    "colors.index = colors.index.str.replace('_', ' ')\n",
    "cell_annotations['tissue'] = cell_annotations['tissue'].str.replace('_', ' ')"
   ]
  },
  {
   "cell_type": "code",
   "execution_count": 41,
   "metadata": {},
   "outputs": [
    {
     "data": {
      "text/plain": [
       "['Aorta',\n",
       " 'Bladder',\n",
       " 'Brain',\n",
       " 'Brain Microglia',\n",
       " 'Brain Non-microglia',\n",
       " 'Colon',\n",
       " 'Diaphragm',\n",
       " 'Fat',\n",
       " 'Heart',\n",
       " 'Kidney',\n",
       " 'Liver',\n",
       " 'Lung',\n",
       " 'Mammary',\n",
       " 'Marrow',\n",
       " 'Muscle',\n",
       " 'Pancreas',\n",
       " 'Skin',\n",
       " 'Spleen',\n",
       " 'Thymus',\n",
       " 'Tongue',\n",
       " 'Trachea']"
      ]
     },
     "execution_count": 41,
     "metadata": {},
     "output_type": "execute_result"
    }
   ],
   "source": [
    "tissues = sorted(nreads_ngenes['tissue'].unique())\n",
    "tissues"
   ]
  },
  {
   "cell_type": "code",
   "execution_count": 42,
   "metadata": {
    "collapsed": true
   },
   "outputs": [],
   "source": [
    "kwargs = dict(data=nreads_ngenes, row='tissue', facet_kws=dict(sharex=True),\n",
    "               row_order=tissues, palette=colors, xlabel_suffix='')"
   ]
  },
  {
   "cell_type": "code",
   "execution_count": 43,
   "metadata": {},
   "outputs": [
    {
     "data": {
      "text/html": [
       "<div>\n",
       "<style scoped>\n",
       "    .dataframe tbody tr th:only-of-type {\n",
       "        vertical-align: middle;\n",
       "    }\n",
       "\n",
       "    .dataframe tbody tr th {\n",
       "        vertical-align: top;\n",
       "    }\n",
       "\n",
       "    .dataframe thead th {\n",
       "        text-align: right;\n",
       "    }\n",
       "</style>\n",
       "<table border=\"1\" class=\"dataframe\">\n",
       "  <thead>\n",
       "    <tr style=\"text-align: right;\">\n",
       "      <th></th>\n",
       "      <th>tissue</th>\n",
       "      <th>n_cells</th>\n",
       "    </tr>\n",
       "  </thead>\n",
       "  <tbody>\n",
       "    <tr>\n",
       "      <th>0</th>\n",
       "      <td>Aorta</td>\n",
       "      <td>364</td>\n",
       "    </tr>\n",
       "    <tr>\n",
       "      <th>1</th>\n",
       "      <td>Bladder</td>\n",
       "      <td>1287</td>\n",
       "    </tr>\n",
       "    <tr>\n",
       "      <th>2</th>\n",
       "      <td>Brain</td>\n",
       "      <td>3000</td>\n",
       "    </tr>\n",
       "    <tr>\n",
       "      <th>3</th>\n",
       "      <td>Brain Microglia</td>\n",
       "      <td>4365</td>\n",
       "    </tr>\n",
       "    <tr>\n",
       "      <th>4</th>\n",
       "      <td>Brain Non-microglia</td>\n",
       "      <td>3000</td>\n",
       "    </tr>\n",
       "    <tr>\n",
       "      <th>5</th>\n",
       "      <td>Colon</td>\n",
       "      <td>3459</td>\n",
       "    </tr>\n",
       "    <tr>\n",
       "      <th>6</th>\n",
       "      <td>Diaphragm</td>\n",
       "      <td>870</td>\n",
       "    </tr>\n",
       "    <tr>\n",
       "      <th>7</th>\n",
       "      <td>Fat</td>\n",
       "      <td>4709</td>\n",
       "    </tr>\n",
       "    <tr>\n",
       "      <th>8</th>\n",
       "      <td>Heart</td>\n",
       "      <td>4585</td>\n",
       "    </tr>\n",
       "    <tr>\n",
       "      <th>9</th>\n",
       "      <td>Kidney</td>\n",
       "      <td>517</td>\n",
       "    </tr>\n",
       "    <tr>\n",
       "      <th>10</th>\n",
       "      <td>Liver</td>\n",
       "      <td>710</td>\n",
       "    </tr>\n",
       "    <tr>\n",
       "      <th>11</th>\n",
       "      <td>Lung</td>\n",
       "      <td>1620</td>\n",
       "    </tr>\n",
       "    <tr>\n",
       "      <th>12</th>\n",
       "      <td>Mammary</td>\n",
       "      <td>2304</td>\n",
       "    </tr>\n",
       "    <tr>\n",
       "      <th>13</th>\n",
       "      <td>Marrow</td>\n",
       "      <td>4897</td>\n",
       "    </tr>\n",
       "    <tr>\n",
       "      <th>14</th>\n",
       "      <td>Muscle</td>\n",
       "      <td>1937</td>\n",
       "    </tr>\n",
       "    <tr>\n",
       "      <th>15</th>\n",
       "      <td>Pancreas</td>\n",
       "      <td>1327</td>\n",
       "    </tr>\n",
       "    <tr>\n",
       "      <th>16</th>\n",
       "      <td>Skin</td>\n",
       "      <td>2263</td>\n",
       "    </tr>\n",
       "    <tr>\n",
       "      <th>17</th>\n",
       "      <td>Spleen</td>\n",
       "      <td>1689</td>\n",
       "    </tr>\n",
       "    <tr>\n",
       "      <th>18</th>\n",
       "      <td>Thymus</td>\n",
       "      <td>1283</td>\n",
       "    </tr>\n",
       "    <tr>\n",
       "      <th>19</th>\n",
       "      <td>Tongue</td>\n",
       "      <td>1394</td>\n",
       "    </tr>\n",
       "    <tr>\n",
       "      <th>20</th>\n",
       "      <td>Trachea</td>\n",
       "      <td>846</td>\n",
       "    </tr>\n",
       "  </tbody>\n",
       "</table>\n",
       "</div>"
      ],
      "text/plain": [
       "                 tissue  n_cells\n",
       "0                 Aorta      364\n",
       "1               Bladder     1287\n",
       "2                 Brain     3000\n",
       "3       Brain Microglia     4365\n",
       "4   Brain Non-microglia     3000\n",
       "5                 Colon     3459\n",
       "6             Diaphragm      870\n",
       "7                   Fat     4709\n",
       "8                 Heart     4585\n",
       "9                Kidney      517\n",
       "10                Liver      710\n",
       "11                 Lung     1620\n",
       "12              Mammary     2304\n",
       "13               Marrow     4897\n",
       "14               Muscle     1937\n",
       "15             Pancreas     1327\n",
       "16                 Skin     2263\n",
       "17               Spleen     1689\n",
       "18               Thymus     1283\n",
       "19               Tongue     1394\n",
       "20              Trachea      846"
      ]
     },
     "execution_count": 43,
     "metadata": {},
     "output_type": "execute_result"
    }
   ],
   "source": [
    "n_cells_per_tissue = nreads_ngenes.groupby('tissue').size().reset_index()\n",
    "n_cells_per_tissue = n_cells_per_tissue.rename(columns={0: 'n_cells'})\n",
    "n_cells_per_tissue"
   ]
  },
  {
   "cell_type": "code",
   "execution_count": 44,
   "metadata": {},
   "outputs": [
    {
     "data": {
      "image/png": "[encoded data removed]",
      "text/plain": [
       "<matplotlib.figure.Figure at 0x1a142b9da0>"
      ]
     },
     "metadata": {},
     "output_type": "display_data"
    }
   ],
   "source": [
    "fig, ax = plt.subplots()\n",
    "sns.barplot(x='n_cells', y='tissue', data=n_cells_per_tissue, palette=colors, order=tissues)\n",
    "ax.set(xlabel='Number of cells')\n",
    "fig.tight_layout()\n",
    "fig.savefig('figure1b_barplot_n_cells_per_tissue.pdf')"
   ]
  },
  {
   "cell_type": "code",
   "execution_count": null,
   "metadata": {
    "collapsed": true
   },
   "outputs": [],
   "source": []
  }
 ],
 "metadata": {
  "kernelspec": {
   "display_name": "Python 3.6 (tabula-muris-env)",
   "language": "python",
   "name": "tabula-muris-env"
  },
  "language_info": {
   "codemirror_mode": {
    "name": "ipython",
    "version": 3
   },
   "file_extension": ".py",
   "mimetype": "text/x-python",
   "name": "python",
   "nbconvert_exporter": "python",
   "pygments_lexer": "ipython3",
   "version": "3.6.4"
  }
 },
 "nbformat": 4,
 "nbformat_minor": 2
}
