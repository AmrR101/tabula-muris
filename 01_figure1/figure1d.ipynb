{
 "cells": [
  {
   "cell_type": "code",
   "execution_count": 1,
   "metadata": {},
   "outputs": [
    {
     "name": "stdout",
     "output_type": "stream",
     "text": [
      "mkdir: ../metadata/summary: File exists\r\n"
     ]
    }
   ],
   "source": [
    "import pandas as pd\n",
    "import os\n",
    "\n",
    "from maca import clean_annotation, clean_labels\n",
    "\n",
    "metadata_folder = os.path.join('..', 'metadata' )\n",
    "\n",
    "annotation_folder = os.path.join(metadata_folder, 'manual_annotations')\n",
    "# annotation_folder\n",
    "\n",
    "summary_folder = os.path.join(metadata_folder, 'summary')\n",
    "! mkdir $summary_folder\n"
   ]
  },
  {
   "cell_type": "code",
   "execution_count": 2,
   "metadata": {},
   "outputs": [
    {
     "name": "stderr",
     "output_type": "stream",
     "text": [
      "/Users/olgabot/anaconda3/envs/maca/lib/python3.6/site-packages/IPython/html.py:14: ShimWarning: The `IPython.html` package has been deprecated since IPython 4.0. You should import from `notebook` instead. `IPython.html.widgets` has moved to `ipywidgets`.\n",
      "  \"`IPython.html.widgets` has moved to `ipywidgets`.\", ShimWarning)\n"
     ]
    }
   ],
   "source": [
    "import pandas as pd\n",
    "import matplotlib.pyplot as plt\n",
    "import matplotlib\n",
    "import seaborn as sns\n",
    "\n",
    "# Editable text and proper LaTeX fonts in illustrator\n",
    "matplotlib.rcParams['ps.useafm'] = True\n",
    "# matplotlib.rcParams['pdf.use14corefonts'] = True\n",
    "\n",
    "# Editable fonts. 42 is the magic number\n",
    "matplotlib.rcParams['pdf.fonttype'] = 42\n",
    "\n",
    "# Use \"Computer Modern\" (LaTeX font) for math numbers\n",
    "matplotlib.rcParams['mathtext.fontset'] = 'cm'\n",
    "%matplotlib inline\n",
    "\n",
    "sns.set(style='whitegrid', context='paper')"
   ]
  },
  {
   "cell_type": "code",
   "execution_count": 3,
   "metadata": {},
   "outputs": [
    {
     "name": "stdout",
     "output_type": "stream",
     "text": [
      "# packages in environment at /Users/olgabot/anaconda3/envs/maca:\n",
      "#\n",
      "appnope                   0.1.0                    py36_0  \n",
      "beautifulsoup4            4.6.0                     <pip>\n",
      "bkcharts                  0.2                      py36_0  \n",
      "bokeh                     0.12.6                   py36_0  \n",
      "boto3                     1.5.0                     <pip>\n",
      "botocore                  1.8.14                    <pip>\n",
      "certifi                   2017.4.17                 <pip>\n",
      "chardet                   3.0.4                     <pip>\n",
      "click                     6.7                       <pip>\n",
      "curl                      7.49.0                        1  \n",
      "cycler                    0.10.0                   py36_0  \n",
      "dash                      0.17.7                    <pip>\n",
      "dash-core-components      0.5.1                     <pip>\n",
      "dash-html-components      0.6.2                     <pip>\n",
      "dash-renderer             0.7.3                     <pip>\n",
      "dash.ly                   0.17.3                    <pip>\n",
      "decorator                 4.0.11                   py36_0  \n",
      "docutils                  0.14                      <pip>\n",
      "fastcluster               1.1.23              np113py36_0    conda-forge\n",
      "Flask                     0.12.2                    <pip>\n",
      "Flask-Compress            1.4.0                     <pip>\n",
      "Flask-SeaSurf             0.2.2                     <pip>\n",
      "freetype                  2.8                  h12048fb_1  \n",
      "hdf4                      4.2.12                        1  \n",
      "hdf5                      1.8.17                        2  \n",
      "html5lib                  0.999999999               <pip>\n",
      "icu                       54.1                          0  \n",
      "idna                      2.5                       <pip>\n",
      "ipykernel                 4.6.1                    py36_0  \n",
      "ipython                   6.1.0                    py36_0  \n",
      "ipython_genutils          0.2.0                    py36_0  \n",
      "itsdangerous              0.24                      <pip>\n",
      "jedi                      0.10.2                   py36_2  \n",
      "Jinja2                    2.9.6                     <pip>\n",
      "jinja2                    2.9.6                    py36_0  \n",
      "jmespath                  0.9.3                     <pip>\n",
      "jpeg                      9b                   hc9e287d_1  \n",
      "jsonschema                2.6.0                     <pip>\n",
      "jupyter_client            5.0.1                    py36_0  \n",
      "jupyter_core              4.3.0                    py36_0  \n",
      "libcxx                    4.0.1                h579ed51_0  \n",
      "libcxxabi                 4.0.1                hebd6815_0  \n",
      "libnetcdf                 4.4.1                         1  \n",
      "libpng                    1.6.32               hd1e8b91_4  \n",
      "lxml                      3.8.0                     <pip>\n",
      "MarkupSafe                1.0                       <pip>\n",
      "markupsafe                0.23                     py36_2  \n",
      "matplotlib                2.1.0            py36h5068139_0  \n",
      "mkl                       2017.0.1                      0  \n",
      "nbformat                  4.3.0                     <pip>\n",
      "netcdf4                   1.2.4               np113py36_1  \n",
      "numpy                     1.13.0                   py36_0  \n",
      "openssl                   1.0.2l                        0  \n",
      "Owlready2                 0.4                       <pip>\n",
      "pandas                    0.20.2              np113py36_0  \n",
      "path.py                   10.3.1                   py36_0  \n",
      "pexpect                   4.2.1                    py36_0  \n",
      "pickleshare               0.7.4                    py36_0  \n",
      "pip                       9.0.1                    py36_1  \n",
      "plotly                    2.0.11                    <pip>\n",
      "prompt_toolkit            1.0.14                   py36_0  \n",
      "pronto                    0.10.2                    <pip>\n",
      "ptyprocess                0.5.1                    py36_0  \n",
      "pygments                  2.2.0                    py36_0  \n",
      "pyparsing                 2.1.4                    py36_0  \n",
      "pyqt                      5.6.0                    py36_2  \n",
      "python                    3.6.1                         2  \n",
      "python-dateutil           2.6.0                    py36_0  \n",
      "pytz                      2017.2                   py36_0  \n",
      "pyyaml                    3.12                     py36_0  \n",
      "pyzmq                     16.0.2                   py36_0  \n",
      "qt                        5.6.2                         2  \n",
      "readline                  6.2                           2  \n",
      "requests                  2.14.2                   py36_0  \n",
      "requests                  2.18.1                    <pip>\n",
      "s3transfer                0.1.12                    <pip>\n",
      "scikit-learn              0.18.1              np113py36_1  \n",
      "scipy                     0.19.0              np113py36_0  \n",
      "seaborn                   0.7.1                    py36_0  \n",
      "setuptools                27.2.0                   py36_0  \n",
      "simplegeneric             0.8.1                    py36_1  \n",
      "sip                       4.18                     py36_0  \n",
      "six                       1.10.0                   py36_0  \n",
      "sqlite                    3.13.0                        0  \n",
      "tk                        8.5.18                        0  \n",
      "tornado                   4.5.1                    py36_0  \n",
      "traitlets                 4.3.2                    py36_0  \n",
      "ujson                     1.35                     py36_0  \n",
      "urllib3                   1.21.1                    <pip>\n",
      "wcwidth                   0.1.7                    py36_0  \n",
      "webencodings              0.5.1                     <pip>\n",
      "Werkzeug                  0.12.2                    <pip>\n",
      "wheel                     0.29.0                   py36_0  \n",
      "xarray                    0.9.6                    py36_0  \n",
      "xlrd                      1.0.0                    py36_0  \n",
      "xz                        5.2.2                         1  \n",
      "yaml                      0.1.6                         0  \n",
      "zlib                      1.2.11               hf3cbc9b_2  \n"
     ]
    }
   ],
   "source": [
    "! conda list -n maca"
   ]
  },
  {
   "cell_type": "code",
   "execution_count": 4,
   "metadata": {},
   "outputs": [
    {
     "name": "stdout",
     "output_type": "stream",
     "text": [
      "(42192, 8)\n"
     ]
    },
    {
     "data": {
      "text/html": [
       "<div>\n",
       "<style>\n",
       "    .dataframe thead tr:only-child th {\n",
       "        text-align: right;\n",
       "    }\n",
       "\n",
       "    .dataframe thead th {\n",
       "        text-align: left;\n",
       "    }\n",
       "\n",
       "    .dataframe tbody tr th {\n",
       "        vertical-align: top;\n",
       "    }\n",
       "</style>\n",
       "<table border=\"1\" class=\"dataframe\">\n",
       "  <thead>\n",
       "    <tr style=\"text-align: right;\">\n",
       "      <th></th>\n",
       "      <th>annotation</th>\n",
       "      <th>plate.barcode</th>\n",
       "      <th>subannotation</th>\n",
       "      <th>tissue</th>\n",
       "      <th>annotation_subannotation</th>\n",
       "      <th>cell_ontology_class</th>\n",
       "      <th>cell_ontology_term_iri</th>\n",
       "      <th>cell_ontology_id</th>\n",
       "    </tr>\n",
       "  </thead>\n",
       "  <tbody>\n",
       "    <tr>\n",
       "      <th>A21.MAA000594.3_8_M.1.1</th>\n",
       "      <td>fibroblasts</td>\n",
       "      <td>MAA000594</td>\n",
       "      <td>NaN</td>\n",
       "      <td>Aorta</td>\n",
       "      <td>fibroblasts</td>\n",
       "      <td>fibroblast</td>\n",
       "      <td>http://purl.obolibrary.org/obo/CL_0000057</td>\n",
       "      <td>CL:0000057</td>\n",
       "    </tr>\n",
       "    <tr>\n",
       "      <th>F8.MAA000594.3_8_M.1.1</th>\n",
       "      <td>unknown</td>\n",
       "      <td>MAA000594</td>\n",
       "      <td>NaN</td>\n",
       "      <td>Aorta</td>\n",
       "      <td>unknown</td>\n",
       "      <td>unknown</td>\n",
       "      <td>NaN</td>\n",
       "      <td>CL:.</td>\n",
       "    </tr>\n",
       "    <tr>\n",
       "      <th>H11.MAA000594.3_8_M.1.1</th>\n",
       "      <td>unknown</td>\n",
       "      <td>MAA000594</td>\n",
       "      <td>NaN</td>\n",
       "      <td>Aorta</td>\n",
       "      <td>unknown</td>\n",
       "      <td>unknown</td>\n",
       "      <td>NaN</td>\n",
       "      <td>CL:.</td>\n",
       "    </tr>\n",
       "    <tr>\n",
       "      <th>A22.MAA000594.3_8_M.1.1</th>\n",
       "      <td>unknown</td>\n",
       "      <td>MAA000594</td>\n",
       "      <td>NaN</td>\n",
       "      <td>Aorta</td>\n",
       "      <td>unknown</td>\n",
       "      <td>unknown</td>\n",
       "      <td>NaN</td>\n",
       "      <td>CL:.</td>\n",
       "    </tr>\n",
       "    <tr>\n",
       "      <th>H12.MAA000594.3_8_M.1.1</th>\n",
       "      <td>adipocytes</td>\n",
       "      <td>MAA000594</td>\n",
       "      <td>NaN</td>\n",
       "      <td>Aorta</td>\n",
       "      <td>adipocytes</td>\n",
       "      <td>epicardial adipocyte</td>\n",
       "      <td>http://purl.obolibrary.org/obo/CL_1000309</td>\n",
       "      <td>CL:1000309</td>\n",
       "    </tr>\n",
       "  </tbody>\n",
       "</table>\n",
       "</div>"
      ],
      "text/plain": [
       "                          annotation plate.barcode subannotation tissue  \\\n",
       "A21.MAA000594.3_8_M.1.1  fibroblasts     MAA000594           NaN  Aorta   \n",
       "F8.MAA000594.3_8_M.1.1       unknown     MAA000594           NaN  Aorta   \n",
       "H11.MAA000594.3_8_M.1.1      unknown     MAA000594           NaN  Aorta   \n",
       "A22.MAA000594.3_8_M.1.1      unknown     MAA000594           NaN  Aorta   \n",
       "H12.MAA000594.3_8_M.1.1   adipocytes     MAA000594           NaN  Aorta   \n",
       "\n",
       "                        annotation_subannotation   cell_ontology_class  \\\n",
       "A21.MAA000594.3_8_M.1.1              fibroblasts            fibroblast   \n",
       "F8.MAA000594.3_8_M.1.1                   unknown               unknown   \n",
       "H11.MAA000594.3_8_M.1.1                  unknown               unknown   \n",
       "A22.MAA000594.3_8_M.1.1                  unknown               unknown   \n",
       "H12.MAA000594.3_8_M.1.1               adipocytes  epicardial adipocyte   \n",
       "\n",
       "                                            cell_ontology_term_iri  \\\n",
       "A21.MAA000594.3_8_M.1.1  http://purl.obolibrary.org/obo/CL_0000057   \n",
       "F8.MAA000594.3_8_M.1.1                                         NaN   \n",
       "H11.MAA000594.3_8_M.1.1                                        NaN   \n",
       "A22.MAA000594.3_8_M.1.1                                        NaN   \n",
       "H12.MAA000594.3_8_M.1.1  http://purl.obolibrary.org/obo/CL_1000309   \n",
       "\n",
       "                        cell_ontology_id  \n",
       "A21.MAA000594.3_8_M.1.1       CL:0000057  \n",
       "F8.MAA000594.3_8_M.1.1              CL:.  \n",
       "H11.MAA000594.3_8_M.1.1             CL:.  \n",
       "A22.MAA000594.3_8_M.1.1             CL:.  \n",
       "H12.MAA000594.3_8_M.1.1       CL:1000309  "
      ]
     },
     "execution_count": 4,
     "metadata": {},
     "output_type": "execute_result"
    }
   ],
   "source": [
    "csv = os.path.join(metadata_folder, 'maca_3month_annotations_plates_ontology.csv')\n",
    "\n",
    "cell_annotations = pd.read_csv(csv, index_col=0)\n",
    "print(cell_annotations.shape)\n",
    "cell_annotations.head()"
   ]
  },
  {
   "cell_type": "markdown",
   "metadata": {},
   "source": [
    "Make sure there's no `stromal_mesenchymal_stem_cell_cells`"
   ]
  },
  {
   "cell_type": "code",
   "execution_count": 5,
   "metadata": {},
   "outputs": [
    {
     "data": {
      "text/plain": [
       "annotation\n",
       "stromal_stem      33\n",
       "t_cells         1250\n",
       "dtype: int64"
      ]
     },
     "execution_count": 5,
     "metadata": {},
     "output_type": "execute_result"
    }
   ],
   "source": [
    "cell_annotations.query('tissue == \"Thymus\"').groupby('annotation').size()"
   ]
  },
  {
   "cell_type": "code",
   "execution_count": 6,
   "metadata": {},
   "outputs": [
    {
     "name": "stdout",
     "output_type": "stream",
     "text": [
      "figure1_folder: \"/Users/olgabot/googledrive/MACA_3mo_manuscript/Main figures/Fig1/plates\"\n",
      "figure2_folder: \"/Users/olgabot/googledrive/MACA_3mo_manuscript/Main figures/Fig2/plates\"\n"
     ]
    }
   ],
   "source": [
    "figure_folder = '/Users/olgabot/googledrive/MACA_3mo_manuscript/Main figures'\n",
    "\n",
    "figure1_folder = f'{figure_folder}/Fig1/plates'\n",
    "figure2_folder = f'{figure_folder}/Fig2/plates'\n",
    "\n",
    "print(f'figure1_folder: \"{figure1_folder}\"')\n",
    "print(f'figure2_folder: \"{figure2_folder}\"')\n",
    "\n",
    "! mkdir -p \"$figure1_folder\"\n",
    "! mkdir -p \"$figure2_folder\""
   ]
  },
  {
   "cell_type": "code",
   "execution_count": 7,
   "metadata": {
    "collapsed": true
   },
   "outputs": [],
   "source": [
    "folder = os.path.join(metadata_folder, 'number_of_cells_reads_genes/')"
   ]
  },
  {
   "cell_type": "code",
   "execution_count": 8,
   "metadata": {},
   "outputs": [
    {
     "name": "stdout",
     "output_type": "stream",
     "text": [
      "Aorta_cell_numbers.csv\r\n",
      "Aorta_nreads_ngenes.csv\r\n",
      "Bladder_cell_numbers.csv\r\n",
      "Bladder_nreads_ngenes.csv\r\n",
      "Brain_(Microglia)_cell_numbers.csv\r\n",
      "Brain_(Microglia)_nreads_ngenes.csv\r\n",
      "Brain_(Non-microglia)_cell_numbers.csv\r\n",
      "Brain_(Non-microglia)_nreads_ngenes.csv\r\n",
      "Brain_Microglia_cell_numbers.csv\r\n",
      "Brain_Microglia_nreads_ngenes.csv\r\n",
      "Brain_Neurons_cell_numbers.csv\r\n",
      "Brain_Neurons_nreads_ngenes.csv\r\n",
      "Colon_cell_numbers.csv\r\n",
      "Colon_nreads_ngenes.csv\r\n",
      "Diaphragm_cell_numbers.csv\r\n",
      "Diaphragm_nreads_ngenes.csv\r\n",
      "Fat_cell_numbers.csv\r\n",
      "Fat_nreads_ngenes.csv\r\n",
      "Heart_cell_numbers.csv\r\n",
      "Heart_nreads_ngenes.csv\r\n",
      "Kidney_cell_numbers.csv\r\n",
      "Kidney_nreads_ngenes.csv\r\n",
      "Liver_cell_numbers.csv\r\n",
      "Liver_nreads_ngenes.csv\r\n",
      "Lung_cell_numbers.csv\r\n",
      "Lung_nreads_ngenes.csv\r\n",
      "Mammary_cell_numbers.csv\r\n",
      "Mammary_nreads_ngenes.csv\r\n",
      "Marrow_cell_numbers.csv\r\n",
      "Marrow_nreads_ngenes.csv\r\n",
      "Muscle_cell_numbers.csv\r\n",
      "Muscle_nreads_ngenes.csv\r\n",
      "Pancreas_cell_numbers.csv\r\n",
      "Pancreas_nreads_ngenes.csv\r\n",
      "Skin_cell_numbers.csv\r\n",
      "Skin_nreads_ngenes.csv\r\n",
      "Spleen_cell_numbers.csv\r\n",
      "Spleen_nreads_ngenes.csv\r\n",
      "Thymus_cell_numbers.csv\r\n",
      "Thymus_nreads_ngenes.csv\r\n",
      "Tongue_cell_numbers.csv\r\n",
      "Tongue_nreads_ngenes.csv\r\n",
      "Trachea_cell_numbers.csv\r\n",
      "Trachea_nreads_ngenes.csv\r\n"
     ]
    }
   ],
   "source": [
    "ls $folder"
   ]
  },
  {
   "cell_type": "code",
   "execution_count": 9,
   "metadata": {
    "collapsed": true
   },
   "outputs": [],
   "source": [
    "import hermione as hm"
   ]
  },
  {
   "cell_type": "code",
   "execution_count": 10,
   "metadata": {},
   "outputs": [
    {
     "name": "stdout",
     "output_type": "stream",
     "text": [
      "==> ../metadata/number_of_cells_reads_genes//Aorta_cell_numbers.csv <==\r\n",
      "\"\",\"Aorta\"\r\n",
      "\"n_genes\",19721\r\n",
      "\"n_cells_pass_qc\",364\r\n",
      "\"n_cells_sequenced\",1113\r\n",
      "\r\n",
      "==> ../metadata/number_of_cells_reads_genes//Aorta_nreads_ngenes.csv <==\r\n",
      "\"\",\"nGene\",\"nReads\",\"orig.ident\"\r\n",
      "\"A21.MAA000594.3_8_M.1.1\",3850,1848089,\"Heart\"\r\n",
      "\"F8.MAA000594.3_8_M.1.1\",788,55689,\"Heart\"\r\n",
      "\"H11.MAA000594.3_8_M.1.1\",554,318135,\"Heart\"\r\n",
      "\"A22.MAA000594.3_8_M.1.1\",1279,270173,\"Heart\"\r\n",
      "\"H12.MAA000594.3_8_M.1.1\",946,278892,\"Heart\"\r\n",
      "\"L9.MAA000594.3_8_M.1.1\",798,196845,\"Heart\"\r\n",
      "\"P17.MAA000594.3_8_M.1.1\",3531,818237,\"Heart\"\r\n",
      "\"D6.MAA000594.3_8_M.1.1\",584,246067,\"Heart\"\r\n",
      "\"F14.MAA000594.3_8_M.1.1\",1085,50291,\"Heart\"\r\n"
     ]
    }
   ],
   "source": [
    "! head $folder/Aorta*"
   ]
  },
  {
   "cell_type": "code",
   "execution_count": 11,
   "metadata": {},
   "outputs": [
    {
     "name": "stdout",
     "output_type": "stream",
     "text": [
      "(50791, 4)\n",
      "22\n"
     ]
    },
    {
     "data": {
      "text/html": [
       "<div>\n",
       "<style>\n",
       "    .dataframe thead tr:only-child th {\n",
       "        text-align: right;\n",
       "    }\n",
       "\n",
       "    .dataframe thead th {\n",
       "        text-align: left;\n",
       "    }\n",
       "\n",
       "    .dataframe tbody tr th {\n",
       "        vertical-align: top;\n",
       "    }\n",
       "</style>\n",
       "<table border=\"1\" class=\"dataframe\">\n",
       "  <thead>\n",
       "    <tr style=\"text-align: right;\">\n",
       "      <th></th>\n",
       "      <th>nGene</th>\n",
       "      <th>nReads</th>\n",
       "      <th>orig.ident</th>\n",
       "      <th>tissue</th>\n",
       "    </tr>\n",
       "  </thead>\n",
       "  <tbody>\n",
       "    <tr>\n",
       "      <th>A21.MAA000594.3_8_M.1.1</th>\n",
       "      <td>3850</td>\n",
       "      <td>1848089</td>\n",
       "      <td>Heart</td>\n",
       "      <td>Aorta</td>\n",
       "    </tr>\n",
       "    <tr>\n",
       "      <th>F8.MAA000594.3_8_M.1.1</th>\n",
       "      <td>788</td>\n",
       "      <td>55689</td>\n",
       "      <td>Heart</td>\n",
       "      <td>Aorta</td>\n",
       "    </tr>\n",
       "    <tr>\n",
       "      <th>H11.MAA000594.3_8_M.1.1</th>\n",
       "      <td>554</td>\n",
       "      <td>318135</td>\n",
       "      <td>Heart</td>\n",
       "      <td>Aorta</td>\n",
       "    </tr>\n",
       "    <tr>\n",
       "      <th>A22.MAA000594.3_8_M.1.1</th>\n",
       "      <td>1279</td>\n",
       "      <td>270173</td>\n",
       "      <td>Heart</td>\n",
       "      <td>Aorta</td>\n",
       "    </tr>\n",
       "    <tr>\n",
       "      <th>H12.MAA000594.3_8_M.1.1</th>\n",
       "      <td>946</td>\n",
       "      <td>278892</td>\n",
       "      <td>Heart</td>\n",
       "      <td>Aorta</td>\n",
       "    </tr>\n",
       "  </tbody>\n",
       "</table>\n",
       "</div>"
      ],
      "text/plain": [
       "                         nGene   nReads orig.ident tissue\n",
       "A21.MAA000594.3_8_M.1.1   3850  1848089      Heart  Aorta\n",
       "F8.MAA000594.3_8_M.1.1     788    55689      Heart  Aorta\n",
       "H11.MAA000594.3_8_M.1.1    554   318135      Heart  Aorta\n",
       "A22.MAA000594.3_8_M.1.1   1279   270173      Heart  Aorta\n",
       "H12.MAA000594.3_8_M.1.1    946   278892      Heart  Aorta"
      ]
     },
     "execution_count": 11,
     "metadata": {},
     "output_type": "execute_result"
    }
   ],
   "source": [
    "import glob\n",
    "import os \n",
    "\n",
    "globber = f'{folder}/*_nreads_ngenes.csv'\n",
    "\n",
    "dfs = []\n",
    "\n",
    "for filename in glob.iglob(globber):\n",
    "    df = pd.read_csv(filename, index_col=0)\n",
    "    df['tissue'] = os.path.basename(filename).split('_nreads_ngenes.csv')[0]\n",
    "    dfs.append(df)\n",
    "nreads_ngenes = pd.concat(dfs)\n",
    "\n",
    "print(nreads_ngenes.shape)\n",
    "print(len(nreads_ngenes.groupby('tissue')))\n",
    "nreads_ngenes.head()"
   ]
  },
  {
   "cell_type": "code",
   "execution_count": 12,
   "metadata": {
    "collapsed": true
   },
   "outputs": [],
   "source": [
    "import numpy as np"
   ]
  },
  {
   "cell_type": "code",
   "execution_count": 13,
   "metadata": {
    "collapsed": true
   },
   "outputs": [],
   "source": [
    "nreads_ngenes['log10 nReads'] = np.log10(nreads_ngenes['nReads'])"
   ]
  },
  {
   "cell_type": "code",
   "execution_count": 14,
   "metadata": {},
   "outputs": [
    {
     "data": {
      "text/plain": [
       "Aorta              #1f77b4\n",
       "Bladder            #aec7e8\n",
       "Brain_Microglia    #ff7f0e\n",
       "Brain_Neurons      #ffbb78\n",
       "Colon              #2ca02c\n",
       "Diaphragm          #98df8a\n",
       "Fat                #d62728\n",
       "Heart              #ff9896\n",
       "Kidney             #9467bd\n",
       "Liver              #c5b0d5\n",
       "Lung               #8c564b\n",
       "Mammary            #c49c94\n",
       "Marrow             #e377c2\n",
       "Muscle             #f7b6d2\n",
       "Pancreas           #7f7f7f\n",
       "Skin               #c7c7c7\n",
       "Spleen             #bcbd22\n",
       "Thymus             #dbdb8d\n",
       "Tongue             #17becf\n",
       "Trachea            #9edae5\n",
       "Name: color, dtype: object"
      ]
     },
     "execution_count": 14,
     "metadata": {},
     "output_type": "execute_result"
    }
   ],
   "source": [
    "colors = pd.read_csv(os.path.join(metadata_folder, 'tissue_colors.csv'), index_col=0, squeeze=True)\n",
    "colors"
   ]
  },
  {
   "cell_type": "code",
   "execution_count": 15,
   "metadata": {
    "collapsed": true
   },
   "outputs": [],
   "source": [
    "# Replace underscores with spaces for LaTeX happiness\n",
    "nreads_ngenes['tissue'] = nreads_ngenes['tissue'].str.replace('_', ' ')\n",
    "colors.index = colors.index.str.replace('_', ' ')\n",
    "cell_annotations['tissue'] = cell_annotations['tissue'].str.replace('_', ' ')"
   ]
  },
  {
   "cell_type": "code",
   "execution_count": 16,
   "metadata": {},
   "outputs": [
    {
     "data": {
      "text/plain": [
       "['Aorta',\n",
       " 'Bladder',\n",
       " 'Brain (Microglia)',\n",
       " 'Brain (Non-microglia)',\n",
       " 'Colon',\n",
       " 'Diaphragm',\n",
       " 'Fat',\n",
       " 'Heart',\n",
       " 'Kidney',\n",
       " 'Liver',\n",
       " 'Lung',\n",
       " 'Mammary',\n",
       " 'Marrow',\n",
       " 'Muscle',\n",
       " 'Pancreas',\n",
       " 'Skin',\n",
       " 'Spleen',\n",
       " 'Thymus',\n",
       " 'Tongue',\n",
       " 'Trachea']"
      ]
     },
     "execution_count": 16,
     "metadata": {},
     "output_type": "execute_result"
    }
   ],
   "source": [
    "tissues = sorted(cell_annotations['tissue'].unique())\n",
    "tissues"
   ]
  },
  {
   "cell_type": "code",
   "execution_count": 17,
   "metadata": {
    "collapsed": true
   },
   "outputs": [],
   "source": [
    "kwargs = dict(data=nreads_ngenes, row='tissue', facet_kws=dict(sharex=True),\n",
    "               row_order=tissues, palette=colors, xlabel_suffix='')"
   ]
  },
  {
   "cell_type": "code",
   "execution_count": 19,
   "metadata": {},
   "outputs": [
    {
     "data": {
      "image/png": "[encoded data removed]",
      "text/plain": [
       "<matplotlib.figure.Figure at 0x11b1cb390>"
      ]
     },
     "metadata": {},
     "output_type": "display_data"
    }
   ],
   "source": [
    "g = hm.horizonplot(x='log10 nReads', **kwargs)\n",
    "g.set_xlabels('log10(Reads per cell)')\n",
    "\n",
    "for ax in g.axes.flatten():\n",
    "#     # Add white gridlines\n",
    "#     xticks = ax.get_xticks()\n",
    "#     xmin, xmax, ymin, ymax = ax.axis()\n",
    "    \n",
    "#     xticks = [x for x in xticks if x > xmin and x < xmax]\n",
    "#     ax.vlines(xticks, ymin, 1.2*ymax, color='lightgrey', clip_on=False, linewidth=1, zorder=-1)\n",
    "#     ax.set(xlim=(xmin, xmax), ylim=(ymin, ymax))\n",
    "    \n",
    "    # Remove ticklabels except for last row\n",
    "    if not ax.is_last_row():\n",
    "        plt.setp(ax.get_xticklabels(), visible=False)\n",
    "\n",
    "\n",
    "g.savefig(f'{figure1_folder}/horizonplot_log10_reads_per_cell.pdf')"
   ]
  }
 ],
 "metadata": {
  "kernelspec": {
   "display_name": "Python 3 (MACA)",
   "language": "python",
   "name": "maca"
  },
  "language_info": {
   "codemirror_mode": {
    "name": "ipython",
    "version": 3
   },
   "file_extension": ".py",
   "mimetype": "text/x-python",
   "name": "python",
   "nbconvert_exporter": "python",
   "pygments_lexer": "ipython3",
   "version": "3.6.1"
  }
 },
 "nbformat": 4,
 "nbformat_minor": 2
}
