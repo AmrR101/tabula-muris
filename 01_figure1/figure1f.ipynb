{
 "cells": [
  {
   "cell_type": "code",
   "execution_count": 26,
   "metadata": {},
   "outputs": [
    {
     "data": {
      "text/plain": [
       "Aorta                #1f77b4\n",
       "Bladder              #aec7e8\n",
       "Brain_Myeloid        #ff7f0e\n",
       "Brain_Non-Myeloid    #ffbb78\n",
       "Diaphragm            #2ca02c\n",
       "Fat                  #98df8a\n",
       "Heart                #d62728\n",
       "Heart_and_Aorta      #d62728\n",
       "Kidney               #ff9896\n",
       "Large_Intestine      #9467bd\n",
       "Limb_Muscle          #c5b0d5\n",
       "Liver                #8c564b\n",
       "Lung                 #c49c94\n",
       "Mammary_Gland        #e377c2\n",
       "Marrow               #f7b6d2\n",
       "Pancreas             #7f7f7f\n",
       "Skin                 #c7c7c7\n",
       "Spleen               #bcbd22\n",
       "Thymus               #dbdb8d\n",
       "Tongue               #17becf\n",
       "Trachea              #9edae5\n",
       "Name: color, dtype: object"
      ]
     },
     "execution_count": 26,
     "metadata": {},
     "output_type": "execute_result"
    }
   ],
   "source": [
    "import glob\n",
    "import os \n",
    "\n",
    "import numpy as np\n",
    "import pandas as pd \n",
    "import matplotlib.pyplot as plt\n",
    "import matplotlib\n",
    "import seaborn as sns\n",
    "\n",
    "import hermione as hm\n",
    "\n",
    "\n",
    "\n",
    "# Editable text and proper LaTeX fonts in illustrator\n",
    "matplotlib.rcParams['ps.useafm'] = True\n",
    "# matplotlib.rcParams['pdf.use14corefonts'] = True\n",
    "\n",
    "# Editable fonts. 42 is the magic number\n",
    "matplotlib.rcParams['pdf.fonttype'] = 42\n",
    "\n",
    "# Use \"Computer Modern\" (LaTeX font) for math numbers\n",
    "matplotlib.rcParams['mathtext.fontset'] = 'cm'\n",
    "%matplotlib inline\n",
    "\n",
    "sns.set(style='whitegrid', context='paper')\n",
    "\n",
    "\n",
    "data_ingest_folder = os.path.join('..', '00_data_ingest' )\n",
    "folder = os.path.join(data_ingest_folder, '14_ngenes_ncells_droplet')\n",
    "\n",
    "palette_folder = os.path.join(data_ingest_folder, '15_color_palette')\n",
    "colors = pd.read_csv(os.path.join(palette_folder, 'tissue_colors.csv'), index_col=0, squeeze=True)\n",
    "colors"
   ]
  },
  {
   "cell_type": "code",
   "execution_count": 27,
   "metadata": {},
   "outputs": [
    {
     "name": "stdout",
     "output_type": "stream",
     "text": [
      "(55656, 4)\n",
      "number of tissues:  12\n"
     ]
    },
    {
     "data": {
      "text/html": [
       "<div>\n",
       "<style scoped>\n",
       "    .dataframe tbody tr th:only-of-type {\n",
       "        vertical-align: middle;\n",
       "    }\n",
       "\n",
       "    .dataframe tbody tr th {\n",
       "        vertical-align: top;\n",
       "    }\n",
       "\n",
       "    .dataframe thead th {\n",
       "        text-align: right;\n",
       "    }\n",
       "</style>\n",
       "<table border=\"1\" class=\"dataframe\">\n",
       "  <thead>\n",
       "    <tr style=\"text-align: right;\">\n",
       "      <th></th>\n",
       "      <th>nGene</th>\n",
       "      <th>nUMI</th>\n",
       "      <th>orig.ident</th>\n",
       "      <th>tissue</th>\n",
       "    </tr>\n",
       "  </thead>\n",
       "  <tbody>\n",
       "    <tr>\n",
       "      <th>10X_P4_2_AAACCTGAGCTACCTA</th>\n",
       "      <td>1854</td>\n",
       "      <td>8116</td>\n",
       "      <td>10X</td>\n",
       "      <td>Liver</td>\n",
       "    </tr>\n",
       "    <tr>\n",
       "      <th>10X_P4_2_AAACCTGCAAGACACG</th>\n",
       "      <td>913</td>\n",
       "      <td>1748</td>\n",
       "      <td>10X</td>\n",
       "      <td>Liver</td>\n",
       "    </tr>\n",
       "    <tr>\n",
       "      <th>10X_P4_2_AAACCTGCATGCCTTC</th>\n",
       "      <td>2234</td>\n",
       "      <td>8838</td>\n",
       "      <td>10X</td>\n",
       "      <td>Liver</td>\n",
       "    </tr>\n",
       "    <tr>\n",
       "      <th>10X_P4_2_AAACCTGGTATCTGCA</th>\n",
       "      <td>690</td>\n",
       "      <td>1648</td>\n",
       "      <td>10X</td>\n",
       "      <td>Liver</td>\n",
       "    </tr>\n",
       "    <tr>\n",
       "      <th>10X_P4_2_AAACGGGTCCGCATAA</th>\n",
       "      <td>705</td>\n",
       "      <td>1492</td>\n",
       "      <td>10X</td>\n",
       "      <td>Liver</td>\n",
       "    </tr>\n",
       "  </tbody>\n",
       "</table>\n",
       "</div>"
      ],
      "text/plain": [
       "                           nGene  nUMI orig.ident tissue\n",
       "10X_P4_2_AAACCTGAGCTACCTA   1854  8116        10X  Liver\n",
       "10X_P4_2_AAACCTGCAAGACACG    913  1748        10X  Liver\n",
       "10X_P4_2_AAACCTGCATGCCTTC   2234  8838        10X  Liver\n",
       "10X_P4_2_AAACCTGGTATCTGCA    690  1648        10X  Liver\n",
       "10X_P4_2_AAACGGGTCCGCATAA    705  1492        10X  Liver"
      ]
     },
     "execution_count": 27,
     "metadata": {},
     "output_type": "execute_result"
    }
   ],
   "source": [
    "import glob\n",
    "import os \n",
    " \n",
    "globber = os.path.join(folder, '*_nreads_ngenes.csv')\n",
    "\n",
    "dfs = []\n",
    "\n",
    "for filename in glob.iglob(globber):\n",
    "    df = pd.read_csv(filename, index_col=0)\n",
    "    df['tissue'] = os.path.basename(filename).split('_nreads_ngenes.csv')[0]\n",
    "    dfs.append(df)\n",
    "nreads_ngenes = pd.concat(dfs)\n",
    "print(nreads_ngenes.shape)\n",
    "print('number of tissues: ', len(nreads_ngenes.groupby('tissue')))\n",
    "nreads_ngenes.head()"
   ]
  },
  {
   "cell_type": "code",
   "execution_count": 28,
   "metadata": {},
   "outputs": [],
   "source": [
    "nreads_ngenes['log10_nUMI'] = np.log10(nreads_ngenes['nUMI'])"
   ]
  },
  {
   "cell_type": "code",
   "execution_count": 29,
   "metadata": {},
   "outputs": [],
   "source": [
    "# Replace underscores with spaces for LaTeX happiness\n",
    "nreads_ngenes['tissue'] = nreads_ngenes['tissue'].str.replace('_', ' ')\n",
    "colors.index = colors.index.str.replace('_', ' ')"
   ]
  },
  {
   "cell_type": "code",
   "execution_count": 30,
   "metadata": {},
   "outputs": [
    {
     "data": {
      "text/plain": [
       "{'Aorta': '#1f77b4',\n",
       " 'Bladder': '#aec7e8',\n",
       " 'Brain Myeloid': '#ff7f0e',\n",
       " 'Brain Non-Myeloid': '#ffbb78',\n",
       " 'Diaphragm': '#2ca02c',\n",
       " 'Fat': '#98df8a',\n",
       " 'Heart': '#d62728',\n",
       " 'Heart and Aorta': '#d62728',\n",
       " 'Kidney': '#ff9896',\n",
       " 'Large Intestine': '#9467bd',\n",
       " 'Limb Muscle': '#c5b0d5',\n",
       " 'Liver': '#8c564b',\n",
       " 'Lung': '#c49c94',\n",
       " 'Mammary Gland': '#e377c2',\n",
       " 'Marrow': '#f7b6d2',\n",
       " 'Pancreas': '#7f7f7f',\n",
       " 'Skin': '#c7c7c7',\n",
       " 'Spleen': '#bcbd22',\n",
       " 'Thymus': '#dbdb8d',\n",
       " 'Tongue': '#17becf',\n",
       " 'Trachea': '#9edae5'}"
      ]
     },
     "execution_count": 30,
     "metadata": {},
     "output_type": "execute_result"
    }
   ],
   "source": [
    "# Convert colors to dict to force mapping of tissue name to color\n",
    "colors = colors.to_dict()\n",
    "colors"
   ]
  },
  {
   "cell_type": "code",
   "execution_count": 31,
   "metadata": {},
   "outputs": [
    {
     "data": {
      "text/plain": [
       "['Bladder',\n",
       " 'Heart and Aorta',\n",
       " 'Kidney',\n",
       " 'Limb Muscle',\n",
       " 'Liver',\n",
       " 'Lung',\n",
       " 'Mammary Gland',\n",
       " 'Marrow',\n",
       " 'Spleen',\n",
       " 'Thymus',\n",
       " 'Tongue',\n",
       " 'Trachea']"
      ]
     },
     "execution_count": 31,
     "metadata": {},
     "output_type": "execute_result"
    }
   ],
   "source": [
    "tissues = sorted(nreads_ngenes['tissue'].unique())\n",
    "tissues = [tissue.replace('_', ' ') for tissue in tissues]\n",
    "tissues"
   ]
  },
  {
   "cell_type": "code",
   "execution_count": 32,
   "metadata": {},
   "outputs": [],
   "source": [
    "kwargs = dict(data=nreads_ngenes, row='tissue', kdeplot_kws=dict(zorder=-1),\n",
    "               row_order=tissues, palette=colors, xlabel_suffix='')"
   ]
  },
  {
   "cell_type": "code",
   "execution_count": 33,
   "metadata": {},
   "outputs": [
    {
     "data": {
      "image/png": "[encoded data removed]",
      "text/plain": [
       "<Figure size 288x432 with 12 Axes>"
      ]
     },
     "metadata": {},
     "output_type": "display_data"
    }
   ],
   "source": [
    "g = hm.horizonplot(x='log10_nUMI', **kwargs)\n",
    "g.set_xlabels('log10(UMI per cell)')\n",
    "for ax in g.axes.flatten():\n",
    "\n",
    "#     # Add white gridlines\n",
    "#     xticks = ax.get_xticks()\n",
    "#     xmin, xmax, ymin, ymax = ax.axis()\n",
    "#     ax.vlines(xticks, ymin, 1.2*ymax, color='white', clip_on=False, linewidth=1)\n",
    "#     ax.set(xlim=(xmin, xmax), ylim=(ymin, ymax))\n",
    "    \n",
    "    # Remove ticklabels except for last row\n",
    "    if not ax.is_last_row():\n",
    "        plt.setp(ax.get_xticklabels(), visible=False)\n",
    "\n",
    "\n",
    "g.savefig('figure1f_horizonplot_log10_UMI_per_cell.pdf')"
   ]
  },
  {
   "cell_type": "code",
   "execution_count": null,
   "metadata": {
    "collapsed": true
   },
   "outputs": [],
   "source": []
  }
 ],
 "metadata": {
  "kernelspec": {
   "display_name": "Python 3.6 (tabula-muris-env)",
   "language": "python",
   "name": "tabula-muris-env"
  },
  "language_info": {
   "codemirror_mode": {
    "name": "ipython",
    "version": 3
   },
   "file_extension": ".py",
   "mimetype": "text/x-python",
   "name": "python",
   "nbconvert_exporter": "python",
   "pygments_lexer": "ipython3",
   "version": "3.5.5"
  }
 },
 "nbformat": 4,
 "nbformat_minor": 2
}
