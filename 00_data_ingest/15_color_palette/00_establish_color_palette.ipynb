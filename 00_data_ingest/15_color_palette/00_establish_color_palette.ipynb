{
 "cells": [
  {
   "cell_type": "code",
   "execution_count": 9,
   "metadata": {
    "collapsed": true
   },
   "outputs": [],
   "source": [
    "import pandas as pd\n",
    "import matplotlib.pyplot as plt\n",
    "import seaborn as sns\n",
    "from matplotlib.colors import rgb2hex\n",
    "import os\n",
    "\n",
    "droplet_folder = os.path.join('..', '01_droplet_raw_data',)\n",
    "\n",
    "# FACS was performed on all tissues so we can use the anotations from there as a gold standard\n",
    "facs_folder = os.path.join('..', '00_facs_raw_data')\n",
    "\n",
    "%matplotlib inline\n"
   ]
  },
  {
   "cell_type": "code",
   "execution_count": 10,
   "metadata": {},
   "outputs": [
    {
     "name": "stdout",
     "output_type": "stream",
     "text": [
      "(42192, 4)\n"
     ]
    },
    {
     "data": {
      "text/html": [
       "<div>\n",
       "<style scoped>\n",
       "    .dataframe tbody tr th:only-of-type {\n",
       "        vertical-align: middle;\n",
       "    }\n",
       "\n",
       "    .dataframe tbody tr th {\n",
       "        vertical-align: top;\n",
       "    }\n",
       "\n",
       "    .dataframe thead th {\n",
       "        text-align: right;\n",
       "    }\n",
       "</style>\n",
       "<table border=\"1\" class=\"dataframe\">\n",
       "  <thead>\n",
       "    <tr style=\"text-align: right;\">\n",
       "      <th></th>\n",
       "      <th>tissue</th>\n",
       "      <th>cell_ontology_class</th>\n",
       "      <th>cell_ontology_term_iri</th>\n",
       "      <th>cell_ontology_id</th>\n",
       "    </tr>\n",
       "    <tr>\n",
       "      <th>cell</th>\n",
       "      <th></th>\n",
       "      <th></th>\n",
       "      <th></th>\n",
       "      <th></th>\n",
       "    </tr>\n",
       "  </thead>\n",
       "  <tbody>\n",
       "    <tr>\n",
       "      <th>A21.MAA000594.3_8_M.1.1</th>\n",
       "      <td>Aorta</td>\n",
       "      <td>fibroblast</td>\n",
       "      <td>http://purl.obolibrary.org/obo/CL_0000057</td>\n",
       "      <td>CL:0000057</td>\n",
       "    </tr>\n",
       "    <tr>\n",
       "      <th>F8.MAA000594.3_8_M.1.1</th>\n",
       "      <td>Aorta</td>\n",
       "      <td>unknown</td>\n",
       "      <td>NaN</td>\n",
       "      <td>CL:.</td>\n",
       "    </tr>\n",
       "    <tr>\n",
       "      <th>H11.MAA000594.3_8_M.1.1</th>\n",
       "      <td>Aorta</td>\n",
       "      <td>unknown</td>\n",
       "      <td>NaN</td>\n",
       "      <td>CL:.</td>\n",
       "    </tr>\n",
       "    <tr>\n",
       "      <th>A22.MAA000594.3_8_M.1.1</th>\n",
       "      <td>Aorta</td>\n",
       "      <td>unknown</td>\n",
       "      <td>NaN</td>\n",
       "      <td>CL:.</td>\n",
       "    </tr>\n",
       "    <tr>\n",
       "      <th>H12.MAA000594.3_8_M.1.1</th>\n",
       "      <td>Aorta</td>\n",
       "      <td>epicardial adipocyte</td>\n",
       "      <td>http://purl.obolibrary.org/obo/CL_1000309</td>\n",
       "      <td>CL:1000309</td>\n",
       "    </tr>\n",
       "  </tbody>\n",
       "</table>\n",
       "</div>"
      ],
      "text/plain": [
       "                        tissue   cell_ontology_class  \\\n",
       "cell                                                   \n",
       "A21.MAA000594.3_8_M.1.1  Aorta            fibroblast   \n",
       "F8.MAA000594.3_8_M.1.1   Aorta               unknown   \n",
       "H11.MAA000594.3_8_M.1.1  Aorta               unknown   \n",
       "A22.MAA000594.3_8_M.1.1  Aorta               unknown   \n",
       "H12.MAA000594.3_8_M.1.1  Aorta  epicardial adipocyte   \n",
       "\n",
       "                                            cell_ontology_term_iri  \\\n",
       "cell                                                                 \n",
       "A21.MAA000594.3_8_M.1.1  http://purl.obolibrary.org/obo/CL_0000057   \n",
       "F8.MAA000594.3_8_M.1.1                                         NaN   \n",
       "H11.MAA000594.3_8_M.1.1                                        NaN   \n",
       "A22.MAA000594.3_8_M.1.1                                        NaN   \n",
       "H12.MAA000594.3_8_M.1.1  http://purl.obolibrary.org/obo/CL_1000309   \n",
       "\n",
       "                        cell_ontology_id  \n",
       "cell                                      \n",
       "A21.MAA000594.3_8_M.1.1       CL:0000057  \n",
       "F8.MAA000594.3_8_M.1.1              CL:.  \n",
       "H11.MAA000594.3_8_M.1.1             CL:.  \n",
       "A22.MAA000594.3_8_M.1.1             CL:.  \n",
       "H12.MAA000594.3_8_M.1.1       CL:1000309  "
      ]
     },
     "execution_count": 10,
     "metadata": {},
     "output_type": "execute_result"
    }
   ],
   "source": [
    "csv = os.path.join(facs_folder, 'annotations_FACS.csv')\n",
    "\n",
    "cell_annotations = pd.read_csv(csv, index_col=0)\n",
    "print(cell_annotations.shape)\n",
    "cell_annotations.head()"
   ]
  },
  {
   "cell_type": "code",
   "execution_count": 11,
   "metadata": {},
   "outputs": [
    {
     "data": {
      "text/plain": [
       "['Aorta',\n",
       " 'Bladder',\n",
       " 'Brain_Microglia',\n",
       " 'Brain_Non-microglia',\n",
       " 'Colon',\n",
       " 'Diaphragm',\n",
       " 'Fat',\n",
       " 'Heart',\n",
       " 'Kidney',\n",
       " 'Liver',\n",
       " 'Lung',\n",
       " 'Mammary',\n",
       " 'Marrow',\n",
       " 'Muscle',\n",
       " 'Pancreas',\n",
       " 'Skin',\n",
       " 'Spleen',\n",
       " 'Thymus',\n",
       " 'Tongue',\n",
       " 'Trachea']"
      ]
     },
     "execution_count": 11,
     "metadata": {},
     "output_type": "execute_result"
    }
   ],
   "source": [
    "tissues = sorted(cell_annotations['tissue'].unique())\n",
    "tissues"
   ]
  },
  {
   "cell_type": "code",
   "execution_count": 12,
   "metadata": {},
   "outputs": [
    {
     "data": {
      "text/plain": [
       "20"
      ]
     },
     "execution_count": 12,
     "metadata": {},
     "output_type": "execute_result"
    }
   ],
   "source": [
    "n_tissues = len(tissues)\n",
    "n_tissues"
   ]
  },
  {
   "cell_type": "code",
   "execution_count": 13,
   "metadata": {},
   "outputs": [
    {
     "data": {
      "text/plain": [
       "Aorta                  #1f77b4\n",
       "Bladder                #aec7e8\n",
       "Brain_Microglia        #ff7f0e\n",
       "Brain_Non-microglia    #ffbb78\n",
       "Colon                  #2ca02c\n",
       "Diaphragm              #98df8a\n",
       "Fat                    #d62728\n",
       "Heart                  #ff9896\n",
       "Kidney                 #9467bd\n",
       "Liver                  #c5b0d5\n",
       "Lung                   #8c564b\n",
       "Mammary                #c49c94\n",
       "Marrow                 #e377c2\n",
       "Muscle                 #f7b6d2\n",
       "Pancreas               #7f7f7f\n",
       "Skin                   #c7c7c7\n",
       "Spleen                 #bcbd22\n",
       "Thymus                 #dbdb8d\n",
       "Tongue                 #17becf\n",
       "Trachea                #9edae5\n",
       "Name: color, dtype: object"
      ]
     },
     "execution_count": 13,
     "metadata": {},
     "output_type": "execute_result"
    }
   ],
   "source": [
    "palette = pd.Series(map(rgb2hex, sns.color_palette('tab20', n_colors=n_tissues)), index=tissues, name='color')\n",
    "palette"
   ]
  },
  {
   "cell_type": "code",
   "execution_count": 19,
   "metadata": {
    "collapsed": true
   },
   "outputs": [],
   "source": [
    "palette.to_csv('tissue_colors.csv', header=True)"
   ]
  },
  {
   "cell_type": "code",
   "execution_count": 20,
   "metadata": {},
   "outputs": [
    {
     "data": {
      "text/plain": [
       "0                   Aorta\n",
       "1                 Bladder\n",
       "2         Brain_Microglia\n",
       "3     Brain_Non-microglia\n",
       "4                   Colon\n",
       "5               Diaphragm\n",
       "6                     Fat\n",
       "7                   Heart\n",
       "8                  Kidney\n",
       "9                   Liver\n",
       "10                   Lung\n",
       "11                Mammary\n",
       "12                 Marrow\n",
       "13                 Muscle\n",
       "14               Pancreas\n",
       "15                   Skin\n",
       "16                 Spleen\n",
       "17                 Thymus\n",
       "18                 Tongue\n",
       "19                Trachea\n",
       "dtype: object"
      ]
     },
     "execution_count": 20,
     "metadata": {},
     "output_type": "execute_result"
    }
   ],
   "source": [
    "pd.Series(tissues)"
   ]
  }
 ],
 "metadata": {
  "kernelspec": {
   "display_name": "Python 3.6 (tabula-muris-env)",
   "language": "python",
   "name": "tabula-muris-env"
  },
  "language_info": {
   "codemirror_mode": {
    "name": "ipython",
    "version": 3
   },
   "file_extension": ".py",
   "mimetype": "text/x-python",
   "name": "python",
   "nbconvert_exporter": "python",
   "pygments_lexer": "ipython3",
   "version": "3.5.4"
  }
 },
 "nbformat": 4,
 "nbformat_minor": 2
}
